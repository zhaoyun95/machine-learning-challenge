{
 "cells": [
  {
   "cell_type": "code",
   "execution_count": 1,
   "metadata": {},
   "outputs": [],
   "source": [
    "import pandas as pd\n",
    "from sklearn.preprocessing import LabelEncoder\n",
    "from sklearn.model_selection import train_test_split\n",
    "from sklearn.svm import SVC\n",
    "from sklearn.metrics import classification_report\n",
    "from sklearn.model_selection import GridSearchCV"
   ]
  },
  {
   "cell_type": "markdown",
   "metadata": {},
   "source": [
    "# Read the CSV and Perform Basic Data Cleaning"
   ]
  },
  {
   "cell_type": "code",
   "execution_count": 2,
   "metadata": {},
   "outputs": [
    {
     "data": {
      "text/html": [
       "<div>\n",
       "<style scoped>\n",
       "    .dataframe tbody tr th:only-of-type {\n",
       "        vertical-align: middle;\n",
       "    }\n",
       "\n",
       "    .dataframe tbody tr th {\n",
       "        vertical-align: top;\n",
       "    }\n",
       "\n",
       "    .dataframe thead th {\n",
       "        text-align: right;\n",
       "    }\n",
       "</style>\n",
       "<table border=\"1\" class=\"dataframe\">\n",
       "  <thead>\n",
       "    <tr style=\"text-align: right;\">\n",
       "      <th></th>\n",
       "      <th>koi_disposition</th>\n",
       "      <th>koi_fpflag_nt</th>\n",
       "      <th>koi_fpflag_ss</th>\n",
       "      <th>koi_fpflag_co</th>\n",
       "      <th>koi_fpflag_ec</th>\n",
       "      <th>koi_period</th>\n",
       "      <th>koi_period_err1</th>\n",
       "      <th>koi_period_err2</th>\n",
       "      <th>koi_time0bk</th>\n",
       "      <th>koi_time0bk_err1</th>\n",
       "      <th>...</th>\n",
       "      <th>koi_steff_err2</th>\n",
       "      <th>koi_slogg</th>\n",
       "      <th>koi_slogg_err1</th>\n",
       "      <th>koi_slogg_err2</th>\n",
       "      <th>koi_srad</th>\n",
       "      <th>koi_srad_err1</th>\n",
       "      <th>koi_srad_err2</th>\n",
       "      <th>ra</th>\n",
       "      <th>dec</th>\n",
       "      <th>koi_kepmag</th>\n",
       "    </tr>\n",
       "  </thead>\n",
       "  <tbody>\n",
       "    <tr>\n",
       "      <th>0</th>\n",
       "      <td>CONFIRMED</td>\n",
       "      <td>0</td>\n",
       "      <td>0</td>\n",
       "      <td>0</td>\n",
       "      <td>0</td>\n",
       "      <td>54.418383</td>\n",
       "      <td>2.479000e-04</td>\n",
       "      <td>-2.479000e-04</td>\n",
       "      <td>162.513840</td>\n",
       "      <td>0.003520</td>\n",
       "      <td>...</td>\n",
       "      <td>-81</td>\n",
       "      <td>4.467</td>\n",
       "      <td>0.064</td>\n",
       "      <td>-0.096</td>\n",
       "      <td>0.927</td>\n",
       "      <td>0.105</td>\n",
       "      <td>-0.061</td>\n",
       "      <td>291.93423</td>\n",
       "      <td>48.141651</td>\n",
       "      <td>15.347</td>\n",
       "    </tr>\n",
       "    <tr>\n",
       "      <th>1</th>\n",
       "      <td>FALSE POSITIVE</td>\n",
       "      <td>0</td>\n",
       "      <td>1</td>\n",
       "      <td>0</td>\n",
       "      <td>0</td>\n",
       "      <td>19.899140</td>\n",
       "      <td>1.490000e-05</td>\n",
       "      <td>-1.490000e-05</td>\n",
       "      <td>175.850252</td>\n",
       "      <td>0.000581</td>\n",
       "      <td>...</td>\n",
       "      <td>-176</td>\n",
       "      <td>4.544</td>\n",
       "      <td>0.044</td>\n",
       "      <td>-0.176</td>\n",
       "      <td>0.868</td>\n",
       "      <td>0.233</td>\n",
       "      <td>-0.078</td>\n",
       "      <td>297.00482</td>\n",
       "      <td>48.134129</td>\n",
       "      <td>15.436</td>\n",
       "    </tr>\n",
       "    <tr>\n",
       "      <th>2</th>\n",
       "      <td>FALSE POSITIVE</td>\n",
       "      <td>0</td>\n",
       "      <td>1</td>\n",
       "      <td>0</td>\n",
       "      <td>0</td>\n",
       "      <td>1.736952</td>\n",
       "      <td>2.630000e-07</td>\n",
       "      <td>-2.630000e-07</td>\n",
       "      <td>170.307565</td>\n",
       "      <td>0.000115</td>\n",
       "      <td>...</td>\n",
       "      <td>-174</td>\n",
       "      <td>4.564</td>\n",
       "      <td>0.053</td>\n",
       "      <td>-0.168</td>\n",
       "      <td>0.791</td>\n",
       "      <td>0.201</td>\n",
       "      <td>-0.067</td>\n",
       "      <td>285.53461</td>\n",
       "      <td>48.285210</td>\n",
       "      <td>15.597</td>\n",
       "    </tr>\n",
       "    <tr>\n",
       "      <th>3</th>\n",
       "      <td>CONFIRMED</td>\n",
       "      <td>0</td>\n",
       "      <td>0</td>\n",
       "      <td>0</td>\n",
       "      <td>0</td>\n",
       "      <td>2.525592</td>\n",
       "      <td>3.760000e-06</td>\n",
       "      <td>-3.760000e-06</td>\n",
       "      <td>171.595550</td>\n",
       "      <td>0.001130</td>\n",
       "      <td>...</td>\n",
       "      <td>-211</td>\n",
       "      <td>4.438</td>\n",
       "      <td>0.070</td>\n",
       "      <td>-0.210</td>\n",
       "      <td>1.046</td>\n",
       "      <td>0.334</td>\n",
       "      <td>-0.133</td>\n",
       "      <td>288.75488</td>\n",
       "      <td>48.226200</td>\n",
       "      <td>15.509</td>\n",
       "    </tr>\n",
       "    <tr>\n",
       "      <th>4</th>\n",
       "      <td>CONFIRMED</td>\n",
       "      <td>0</td>\n",
       "      <td>0</td>\n",
       "      <td>0</td>\n",
       "      <td>0</td>\n",
       "      <td>4.134435</td>\n",
       "      <td>1.050000e-05</td>\n",
       "      <td>-1.050000e-05</td>\n",
       "      <td>172.979370</td>\n",
       "      <td>0.001900</td>\n",
       "      <td>...</td>\n",
       "      <td>-232</td>\n",
       "      <td>4.486</td>\n",
       "      <td>0.054</td>\n",
       "      <td>-0.229</td>\n",
       "      <td>0.972</td>\n",
       "      <td>0.315</td>\n",
       "      <td>-0.105</td>\n",
       "      <td>296.28613</td>\n",
       "      <td>48.224670</td>\n",
       "      <td>15.714</td>\n",
       "    </tr>\n",
       "  </tbody>\n",
       "</table>\n",
       "<p>5 rows × 41 columns</p>\n",
       "</div>"
      ],
      "text/plain": [
       "  koi_disposition  koi_fpflag_nt  koi_fpflag_ss  koi_fpflag_co  koi_fpflag_ec  \\\n",
       "0       CONFIRMED              0              0              0              0   \n",
       "1  FALSE POSITIVE              0              1              0              0   \n",
       "2  FALSE POSITIVE              0              1              0              0   \n",
       "3       CONFIRMED              0              0              0              0   \n",
       "4       CONFIRMED              0              0              0              0   \n",
       "\n",
       "   koi_period  koi_period_err1  koi_period_err2  koi_time0bk  \\\n",
       "0   54.418383     2.479000e-04    -2.479000e-04   162.513840   \n",
       "1   19.899140     1.490000e-05    -1.490000e-05   175.850252   \n",
       "2    1.736952     2.630000e-07    -2.630000e-07   170.307565   \n",
       "3    2.525592     3.760000e-06    -3.760000e-06   171.595550   \n",
       "4    4.134435     1.050000e-05    -1.050000e-05   172.979370   \n",
       "\n",
       "   koi_time0bk_err1  ...  koi_steff_err2  koi_slogg  koi_slogg_err1  \\\n",
       "0          0.003520  ...             -81      4.467           0.064   \n",
       "1          0.000581  ...            -176      4.544           0.044   \n",
       "2          0.000115  ...            -174      4.564           0.053   \n",
       "3          0.001130  ...            -211      4.438           0.070   \n",
       "4          0.001900  ...            -232      4.486           0.054   \n",
       "\n",
       "   koi_slogg_err2  koi_srad  koi_srad_err1  koi_srad_err2         ra  \\\n",
       "0          -0.096     0.927          0.105         -0.061  291.93423   \n",
       "1          -0.176     0.868          0.233         -0.078  297.00482   \n",
       "2          -0.168     0.791          0.201         -0.067  285.53461   \n",
       "3          -0.210     1.046          0.334         -0.133  288.75488   \n",
       "4          -0.229     0.972          0.315         -0.105  296.28613   \n",
       "\n",
       "         dec  koi_kepmag  \n",
       "0  48.141651      15.347  \n",
       "1  48.134129      15.436  \n",
       "2  48.285210      15.597  \n",
       "3  48.226200      15.509  \n",
       "4  48.224670      15.714  \n",
       "\n",
       "[5 rows x 41 columns]"
      ]
     },
     "execution_count": 2,
     "metadata": {},
     "output_type": "execute_result"
    }
   ],
   "source": [
    "df = pd.read_csv(\"exoplanet_data500rows.csv\")\n",
    "# Drop the null columns where all values are null\n",
    "df = df.dropna(axis='columns', how='all')\n",
    "# Drop the null rows\n",
    "df = df.dropna()\n",
    "df.head()"
   ]
  },
  {
   "cell_type": "markdown",
   "metadata": {},
   "source": [
    "# Select your features (columns)"
   ]
  },
  {
   "cell_type": "code",
   "execution_count": 3,
   "metadata": {},
   "outputs": [
    {
     "name": "stdout",
     "output_type": "stream",
     "text": [
      "(500, 9)\n"
     ]
    }
   ],
   "source": [
    "# selected features based on feature importance from the Random Forest Model\n",
    "selected_features = df[['koi_period', 'koi_time0bk', 'koi_impact', 'koi_duration', 'koi_depth', \n",
    "                        'koi_prad', 'koi_teq', 'koi_insol', 'koi_model_snr']]\n",
    "X = selected_features.values\n",
    "print(X.shape)"
   ]
  },
  {
   "cell_type": "markdown",
   "metadata": {},
   "source": [
    "# Create a Train Test Split\n",
    "\n",
    "Use `koi_disposition` for the y values"
   ]
  },
  {
   "cell_type": "code",
   "execution_count": 4,
   "metadata": {},
   "outputs": [
    {
     "data": {
      "text/plain": [
       "array(['CONFIRMED', 'FALSE POSITIVE', 'FALSE POSITIVE', 'CONFIRMED',\n",
       "       'CONFIRMED', 'CONFIRMED', 'CONFIRMED', 'CONFIRMED', 'CONFIRMED',\n",
       "       'CONFIRMED', 'CONFIRMED', 'FALSE POSITIVE', 'FALSE POSITIVE',\n",
       "       'FALSE POSITIVE', 'CONFIRMED', 'CONFIRMED', 'FALSE POSITIVE',\n",
       "       'CONFIRMED', 'FALSE POSITIVE', 'CONFIRMED', 'CONFIRMED',\n",
       "       'CONFIRMED', 'FALSE POSITIVE', 'FALSE POSITIVE', 'FALSE POSITIVE',\n",
       "       'CONFIRMED', 'CONFIRMED', 'CONFIRMED', 'CONFIRMED', 'CANDIDATE',\n",
       "       'FALSE POSITIVE', 'CONFIRMED', 'FALSE POSITIVE', 'CONFIRMED',\n",
       "       'CONFIRMED', 'CONFIRMED', 'CONFIRMED', 'CONFIRMED',\n",
       "       'FALSE POSITIVE', 'CONFIRMED', 'CONFIRMED', 'CONFIRMED',\n",
       "       'CONFIRMED', 'FALSE POSITIVE', 'CONFIRMED', 'CONFIRMED',\n",
       "       'CONFIRMED', 'CANDIDATE', 'CONFIRMED', 'CONFIRMED', 'CANDIDATE',\n",
       "       'CANDIDATE', 'CONFIRMED', 'CONFIRMED', 'CONFIRMED', 'CONFIRMED',\n",
       "       'CONFIRMED', 'CONFIRMED', 'FALSE POSITIVE', 'CANDIDATE',\n",
       "       'CONFIRMED', 'CONFIRMED', 'FALSE POSITIVE', 'CONFIRMED',\n",
       "       'CONFIRMED', 'FALSE POSITIVE', 'CANDIDATE', 'CONFIRMED',\n",
       "       'CONFIRMED', 'CONFIRMED', 'CONFIRMED', 'CONFIRMED', 'CONFIRMED',\n",
       "       'FALSE POSITIVE', 'CANDIDATE', 'FALSE POSITIVE', 'CONFIRMED',\n",
       "       'CONFIRMED', 'FALSE POSITIVE', 'FALSE POSITIVE', 'CONFIRMED',\n",
       "       'CANDIDATE', 'CONFIRMED', 'FALSE POSITIVE', 'CONFIRMED',\n",
       "       'CONFIRMED', 'CONFIRMED', 'CONFIRMED', 'CONFIRMED', 'CONFIRMED',\n",
       "       'FALSE POSITIVE', 'FALSE POSITIVE', 'CONFIRMED', 'CONFIRMED',\n",
       "       'CONFIRMED', 'CONFIRMED', 'CONFIRMED', 'CONFIRMED', 'CONFIRMED',\n",
       "       'CONFIRMED', 'FALSE POSITIVE', 'CONFIRMED', 'CONFIRMED',\n",
       "       'CONFIRMED', 'CONFIRMED', 'CONFIRMED', 'FALSE POSITIVE',\n",
       "       'CONFIRMED', 'CONFIRMED', 'FALSE POSITIVE', 'CONFIRMED',\n",
       "       'CONFIRMED', 'CONFIRMED', 'CANDIDATE', 'CONFIRMED', 'CONFIRMED',\n",
       "       'CONFIRMED', 'CONFIRMED', 'CONFIRMED', 'CONFIRMED', 'CONFIRMED',\n",
       "       'CONFIRMED', 'CONFIRMED', 'CONFIRMED', 'CANDIDATE', 'CONFIRMED',\n",
       "       'CONFIRMED', 'CONFIRMED', 'CONFIRMED', 'CANDIDATE', 'CONFIRMED',\n",
       "       'FALSE POSITIVE', 'FALSE POSITIVE', 'CONFIRMED', 'FALSE POSITIVE',\n",
       "       'CONFIRMED', 'CONFIRMED', 'CONFIRMED', 'CONFIRMED', 'CANDIDATE',\n",
       "       'FALSE POSITIVE', 'CONFIRMED', 'CONFIRMED', 'CONFIRMED',\n",
       "       'CONFIRMED', 'CONFIRMED', 'CONFIRMED', 'FALSE POSITIVE',\n",
       "       'CONFIRMED', 'CONFIRMED', 'CONFIRMED', 'CONFIRMED', 'CONFIRMED',\n",
       "       'CONFIRMED', 'FALSE POSITIVE', 'CONFIRMED', 'CONFIRMED',\n",
       "       'CONFIRMED', 'CANDIDATE', 'CONFIRMED', 'FALSE POSITIVE',\n",
       "       'CANDIDATE', 'CONFIRMED', 'CONFIRMED', 'CONFIRMED', 'CONFIRMED',\n",
       "       'CONFIRMED', 'CONFIRMED', 'CONFIRMED', 'FALSE POSITIVE',\n",
       "       'CONFIRMED', 'CONFIRMED', 'CONFIRMED', 'CONFIRMED', 'CANDIDATE',\n",
       "       'CONFIRMED', 'CONFIRMED', 'CONFIRMED', 'CONFIRMED',\n",
       "       'FALSE POSITIVE', 'CONFIRMED', 'CONFIRMED', 'CONFIRMED',\n",
       "       'CONFIRMED', 'CONFIRMED', 'CONFIRMED', 'CONFIRMED', 'CONFIRMED',\n",
       "       'CONFIRMED', 'CANDIDATE', 'CONFIRMED', 'CONFIRMED', 'CONFIRMED',\n",
       "       'CONFIRMED', 'CANDIDATE', 'CONFIRMED', 'CONFIRMED',\n",
       "       'FALSE POSITIVE', 'CONFIRMED', 'CONFIRMED', 'CONFIRMED',\n",
       "       'CONFIRMED', 'CONFIRMED', 'CONFIRMED', 'CONFIRMED',\n",
       "       'FALSE POSITIVE', 'CONFIRMED', 'CONFIRMED', 'FALSE POSITIVE',\n",
       "       'CONFIRMED', 'FALSE POSITIVE', 'CONFIRMED', 'FALSE POSITIVE',\n",
       "       'CONFIRMED', 'FALSE POSITIVE', 'CONFIRMED', 'CONFIRMED',\n",
       "       'CONFIRMED', 'CONFIRMED', 'CONFIRMED', 'CONFIRMED',\n",
       "       'FALSE POSITIVE', 'CONFIRMED', 'CANDIDATE', 'FALSE POSITIVE',\n",
       "       'CONFIRMED', 'FALSE POSITIVE', 'CONFIRMED', 'CONFIRMED',\n",
       "       'CONFIRMED', 'CONFIRMED', 'CONFIRMED', 'FALSE POSITIVE',\n",
       "       'CONFIRMED', 'CONFIRMED', 'CONFIRMED', 'CONFIRMED', 'CONFIRMED',\n",
       "       'CONFIRMED', 'CONFIRMED', 'CONFIRMED', 'CONFIRMED', 'CONFIRMED',\n",
       "       'CONFIRMED', 'CANDIDATE', 'CONFIRMED', 'CONFIRMED', 'CONFIRMED',\n",
       "       'CANDIDATE', 'CONFIRMED', 'CANDIDATE', 'FALSE POSITIVE',\n",
       "       'FALSE POSITIVE', 'FALSE POSITIVE', 'FALSE POSITIVE',\n",
       "       'FALSE POSITIVE', 'FALSE POSITIVE', 'FALSE POSITIVE',\n",
       "       'FALSE POSITIVE', 'FALSE POSITIVE', 'FALSE POSITIVE', 'CONFIRMED',\n",
       "       'FALSE POSITIVE', 'FALSE POSITIVE', 'CONFIRMED', 'CONFIRMED',\n",
       "       'CANDIDATE', 'FALSE POSITIVE', 'FALSE POSITIVE', 'CANDIDATE',\n",
       "       'CONFIRMED', 'FALSE POSITIVE', 'CANDIDATE', 'FALSE POSITIVE',\n",
       "       'CONFIRMED', 'CONFIRMED', 'CONFIRMED', 'FALSE POSITIVE',\n",
       "       'CANDIDATE', 'FALSE POSITIVE', 'FALSE POSITIVE', 'FALSE POSITIVE',\n",
       "       'FALSE POSITIVE', 'FALSE POSITIVE', 'CANDIDATE', 'FALSE POSITIVE',\n",
       "       'FALSE POSITIVE', 'CONFIRMED', 'CONFIRMED', 'CONFIRMED',\n",
       "       'CONFIRMED', 'CONFIRMED', 'CONFIRMED', 'FALSE POSITIVE',\n",
       "       'FALSE POSITIVE', 'FALSE POSITIVE', 'FALSE POSITIVE', 'CONFIRMED',\n",
       "       'CONFIRMED', 'CONFIRMED', 'FALSE POSITIVE', 'FALSE POSITIVE',\n",
       "       'FALSE POSITIVE', 'CONFIRMED', 'CONFIRMED', 'FALSE POSITIVE',\n",
       "       'CANDIDATE', 'CONFIRMED', 'FALSE POSITIVE', 'CONFIRMED',\n",
       "       'CONFIRMED', 'CONFIRMED', 'FALSE POSITIVE', 'CONFIRMED',\n",
       "       'CANDIDATE', 'CONFIRMED', 'CONFIRMED', 'CONFIRMED', 'CONFIRMED',\n",
       "       'FALSE POSITIVE', 'FALSE POSITIVE', 'FALSE POSITIVE',\n",
       "       'FALSE POSITIVE', 'FALSE POSITIVE', 'FALSE POSITIVE', 'CONFIRMED',\n",
       "       'CANDIDATE', 'CONFIRMED', 'CONFIRMED', 'CONFIRMED',\n",
       "       'FALSE POSITIVE', 'FALSE POSITIVE', 'FALSE POSITIVE', 'CANDIDATE',\n",
       "       'CONFIRMED', 'FALSE POSITIVE', 'FALSE POSITIVE', 'CONFIRMED',\n",
       "       'FALSE POSITIVE', 'FALSE POSITIVE', 'CANDIDATE', 'CONFIRMED',\n",
       "       'CANDIDATE', 'FALSE POSITIVE', 'FALSE POSITIVE', 'FALSE POSITIVE',\n",
       "       'FALSE POSITIVE', 'CANDIDATE', 'FALSE POSITIVE', 'CONFIRMED',\n",
       "       'CONFIRMED', 'CANDIDATE', 'CONFIRMED', 'CONFIRMED',\n",
       "       'FALSE POSITIVE', 'FALSE POSITIVE', 'FALSE POSITIVE', 'CONFIRMED',\n",
       "       'CONFIRMED', 'FALSE POSITIVE', 'CONFIRMED', 'FALSE POSITIVE',\n",
       "       'CONFIRMED', 'CONFIRMED', 'CANDIDATE', 'CONFIRMED', 'CONFIRMED',\n",
       "       'FALSE POSITIVE', 'FALSE POSITIVE', 'FALSE POSITIVE', 'CONFIRMED',\n",
       "       'CONFIRMED', 'CONFIRMED', 'CONFIRMED', 'CONFIRMED',\n",
       "       'FALSE POSITIVE', 'FALSE POSITIVE', 'CONFIRMED', 'FALSE POSITIVE',\n",
       "       'CONFIRMED', 'FALSE POSITIVE', 'CONFIRMED', 'FALSE POSITIVE',\n",
       "       'FALSE POSITIVE', 'FALSE POSITIVE', 'FALSE POSITIVE', 'CONFIRMED',\n",
       "       'CONFIRMED', 'CONFIRMED', 'FALSE POSITIVE', 'CONFIRMED',\n",
       "       'FALSE POSITIVE', 'FALSE POSITIVE', 'FALSE POSITIVE', 'CONFIRMED',\n",
       "       'CONFIRMED', 'FALSE POSITIVE', 'CANDIDATE', 'CONFIRMED',\n",
       "       'FALSE POSITIVE', 'CONFIRMED', 'CANDIDATE', 'CANDIDATE',\n",
       "       'FALSE POSITIVE', 'FALSE POSITIVE', 'FALSE POSITIVE', 'CONFIRMED',\n",
       "       'CONFIRMED', 'FALSE POSITIVE', 'CANDIDATE', 'CANDIDATE',\n",
       "       'CONFIRMED', 'CONFIRMED', 'CONFIRMED', 'CONFIRMED', 'CONFIRMED',\n",
       "       'CONFIRMED', 'CONFIRMED', 'CONFIRMED', 'FALSE POSITIVE',\n",
       "       'CONFIRMED', 'FALSE POSITIVE', 'CANDIDATE', 'FALSE POSITIVE',\n",
       "       'CANDIDATE', 'CONFIRMED', 'FALSE POSITIVE', 'CONFIRMED',\n",
       "       'FALSE POSITIVE', 'CANDIDATE', 'FALSE POSITIVE', 'FALSE POSITIVE',\n",
       "       'CONFIRMED', 'CONFIRMED', 'CONFIRMED', 'CONFIRMED', 'CONFIRMED',\n",
       "       'FALSE POSITIVE', 'FALSE POSITIVE', 'CONFIRMED', 'FALSE POSITIVE',\n",
       "       'CONFIRMED', 'CONFIRMED', 'FALSE POSITIVE', 'FALSE POSITIVE',\n",
       "       'FALSE POSITIVE', 'CANDIDATE', 'CONFIRMED', 'CONFIRMED',\n",
       "       'CONFIRMED', 'CONFIRMED', 'CONFIRMED', 'CONFIRMED',\n",
       "       'FALSE POSITIVE', 'FALSE POSITIVE', 'CONFIRMED', 'FALSE POSITIVE',\n",
       "       'CONFIRMED', 'CANDIDATE', 'CONFIRMED', 'CONFIRMED', 'CONFIRMED',\n",
       "       'CONFIRMED', 'CONFIRMED', 'CANDIDATE', 'CANDIDATE',\n",
       "       'FALSE POSITIVE', 'FALSE POSITIVE', 'FALSE POSITIVE',\n",
       "       'FALSE POSITIVE', 'FALSE POSITIVE', 'FALSE POSITIVE',\n",
       "       'FALSE POSITIVE', 'CONFIRMED', 'FALSE POSITIVE', 'CONFIRMED',\n",
       "       'FALSE POSITIVE', 'CANDIDATE', 'CONFIRMED', 'CANDIDATE',\n",
       "       'CONFIRMED', 'CONFIRMED', 'FALSE POSITIVE', 'FALSE POSITIVE',\n",
       "       'FALSE POSITIVE', 'FALSE POSITIVE', 'FALSE POSITIVE',\n",
       "       'FALSE POSITIVE', 'CONFIRMED', 'CONFIRMED', 'CANDIDATE',\n",
       "       'CONFIRMED', 'CANDIDATE', 'CONFIRMED', 'CANDIDATE', 'CONFIRMED',\n",
       "       'CONFIRMED', 'CANDIDATE', 'CONFIRMED', 'CANDIDATE'], dtype=object)"
      ]
     },
     "execution_count": 4,
     "metadata": {},
     "output_type": "execute_result"
    }
   ],
   "source": [
    "# prepare y values\n",
    "y = df['koi_disposition'].values\n",
    "y"
   ]
  },
  {
   "cell_type": "code",
   "execution_count": 5,
   "metadata": {},
   "outputs": [
    {
     "data": {
      "text/plain": [
       "array([1, 2, 2, 1, 1, 1, 1, 1, 1, 1, 1, 2, 2, 2, 1, 1, 2, 1, 2, 1, 1, 1,\n",
       "       2, 2, 2, 1, 1, 1, 1, 0, 2, 1, 2, 1, 1, 1, 1, 1, 2, 1, 1, 1, 1, 2,\n",
       "       1, 1, 1, 0, 1, 1, 0, 0, 1, 1, 1, 1, 1, 1, 2, 0, 1, 1, 2, 1, 1, 2,\n",
       "       0, 1, 1, 1, 1, 1, 1, 2, 0, 2, 1, 1, 2, 2, 1, 0, 1, 2, 1, 1, 1, 1,\n",
       "       1, 1, 2, 2, 1, 1, 1, 1, 1, 1, 1, 1, 2, 1, 1, 1, 1, 1, 2, 1, 1, 2,\n",
       "       1, 1, 1, 0, 1, 1, 1, 1, 1, 1, 1, 1, 1, 1, 0, 1, 1, 1, 1, 0, 1, 2,\n",
       "       2, 1, 2, 1, 1, 1, 1, 0, 2, 1, 1, 1, 1, 1, 1, 2, 1, 1, 1, 1, 1, 1,\n",
       "       2, 1, 1, 1, 0, 1, 2, 0, 1, 1, 1, 1, 1, 1, 1, 2, 1, 1, 1, 1, 0, 1,\n",
       "       1, 1, 1, 2, 1, 1, 1, 1, 1, 1, 1, 1, 1, 0, 1, 1, 1, 1, 0, 1, 1, 2,\n",
       "       1, 1, 1, 1, 1, 1, 1, 2, 1, 1, 2, 1, 2, 1, 2, 1, 2, 1, 1, 1, 1, 1,\n",
       "       1, 2, 1, 0, 2, 1, 2, 1, 1, 1, 1, 1, 2, 1, 1, 1, 1, 1, 1, 1, 1, 1,\n",
       "       1, 1, 0, 1, 1, 1, 0, 1, 0, 2, 2, 2, 2, 2, 2, 2, 2, 2, 2, 1, 2, 2,\n",
       "       1, 1, 0, 2, 2, 0, 1, 2, 0, 2, 1, 1, 1, 2, 0, 2, 2, 2, 2, 2, 0, 2,\n",
       "       2, 1, 1, 1, 1, 1, 1, 2, 2, 2, 2, 1, 1, 1, 2, 2, 2, 1, 1, 2, 0, 1,\n",
       "       2, 1, 1, 1, 2, 1, 0, 1, 1, 1, 1, 2, 2, 2, 2, 2, 2, 1, 0, 1, 1, 1,\n",
       "       2, 2, 2, 0, 1, 2, 2, 1, 2, 2, 0, 1, 0, 2, 2, 2, 2, 0, 2, 1, 1, 0,\n",
       "       1, 1, 2, 2, 2, 1, 1, 2, 1, 2, 1, 1, 0, 1, 1, 2, 2, 2, 1, 1, 1, 1,\n",
       "       1, 2, 2, 1, 2, 1, 2, 1, 2, 2, 2, 2, 1, 1, 1, 2, 1, 2, 2, 2, 1, 1,\n",
       "       2, 0, 1, 2, 1, 0, 0, 2, 2, 2, 1, 1, 2, 0, 0, 1, 1, 1, 1, 1, 1, 1,\n",
       "       1, 2, 1, 2, 0, 2, 0, 1, 2, 1, 2, 0, 2, 2, 1, 1, 1, 1, 1, 2, 2, 1,\n",
       "       2, 1, 1, 2, 2, 2, 0, 1, 1, 1, 1, 1, 1, 2, 2, 1, 2, 1, 0, 1, 1, 1,\n",
       "       1, 1, 0, 0, 2, 2, 2, 2, 2, 2, 2, 1, 2, 1, 2, 0, 1, 0, 1, 1, 2, 2,\n",
       "       2, 2, 2, 2, 1, 1, 0, 1, 0, 1, 0, 1, 1, 0, 1, 0])"
      ]
     },
     "execution_count": 5,
     "metadata": {},
     "output_type": "execute_result"
    }
   ],
   "source": [
    "# Step 1: Label-encode data set\n",
    "\n",
    "label_encoder = LabelEncoder()\n",
    "label_encoder.fit(y)\n",
    "encoded_y = label_encoder.transform(y)\n",
    "encoded_y"
   ]
  },
  {
   "cell_type": "code",
   "execution_count": 6,
   "metadata": {},
   "outputs": [
    {
     "data": {
      "text/plain": [
       "['CANDIDATE', 'CONFIRMED', 'FALSE POSITIVE']"
      ]
     },
     "execution_count": 6,
     "metadata": {},
     "output_type": "execute_result"
    }
   ],
   "source": [
    "# 0 = 'CANDIDATE'; 1 = 'CONFIRMED'; 2 = 'FALSE POSITIVE'\n",
    "y_labels = ['CANDIDATE', 'CONFIRMED', 'FALSE POSITIVE']\n",
    "y_labels"
   ]
  },
  {
   "cell_type": "code",
   "execution_count": 7,
   "metadata": {},
   "outputs": [
    {
     "data": {
      "text/plain": [
       "array([1, 1, 1, 1, 1, 2, 1, 0, 0, 1, 1, 1, 2, 2, 1, 0, 2, 2, 1, 1, 2, 2,\n",
       "       1, 1, 2, 2, 1, 1, 1, 1, 2, 1, 1, 1, 1, 0, 0, 2, 2, 2, 1, 1, 1, 0,\n",
       "       2, 1, 1, 1, 2, 1, 1, 0, 1, 1, 2, 1, 1, 2, 1, 1, 1, 0, 1, 2, 1, 2,\n",
       "       1, 0, 0, 1, 0, 1, 2, 1, 1, 1, 1, 2, 2, 1, 1, 2, 0, 0, 1, 1, 1, 0,\n",
       "       1, 1, 1, 1, 0, 1, 1, 1, 2, 2, 1, 1, 1, 1, 1, 2, 1, 0, 1, 2, 0, 1,\n",
       "       2, 1, 2, 1, 1, 1, 1, 1, 1, 1, 2, 1, 2, 1, 2, 2, 1, 1, 2, 2, 1, 2,\n",
       "       2, 1, 1, 1, 1, 1, 1, 1, 2, 2, 1, 1, 2, 1, 2, 2, 0, 2, 1, 0, 1, 1,\n",
       "       1, 2, 2, 2, 1, 1, 2, 1, 1, 1, 1, 1, 1, 1, 1, 2, 2, 0, 1, 1, 2, 1,\n",
       "       1, 1, 2, 1, 1, 1, 1, 1, 1, 1, 2, 2, 1, 0, 1, 1, 1, 2, 1, 2, 2, 1,\n",
       "       1, 2, 1, 0, 0, 1, 1, 1, 1, 0, 2, 1, 1, 1, 1, 0, 1, 1, 1, 1, 1, 1,\n",
       "       1, 0, 1, 2, 1, 0, 1, 1, 1, 1, 2, 1, 1, 1, 1, 2, 1, 1, 1, 1, 2, 1,\n",
       "       0, 1, 2, 1, 1, 2, 2, 2, 1, 0, 1, 2, 2, 2, 1, 1, 2, 1, 1, 1, 2, 1,\n",
       "       2, 2, 1, 2, 0, 2, 2, 1, 1, 2, 2, 1, 0, 2, 1, 2, 1, 1, 1, 1, 0, 1,\n",
       "       1, 1, 2, 2, 1, 2, 1, 2, 1, 1, 1, 2, 1, 1, 2, 2, 2, 2, 1, 1, 1, 1,\n",
       "       1, 1, 2, 2, 2, 1, 1, 2, 2, 1, 1, 1, 2, 1, 2, 2, 1, 2, 1, 0, 1, 1,\n",
       "       1, 1, 2, 2, 1, 2, 1, 2, 1, 0, 1, 1, 1, 1, 1, 1, 0, 1, 1, 1, 2, 1,\n",
       "       2, 0, 1, 2, 1, 1, 2, 1, 1, 1, 1, 0, 1, 1, 2, 1, 1, 2, 2, 1, 2, 1,\n",
       "       1])"
      ]
     },
     "execution_count": 7,
     "metadata": {},
     "output_type": "execute_result"
    }
   ],
   "source": [
    "\n",
    "X_train, X_test, y_train, y_test = train_test_split(X, encoded_y, random_state=1)\n",
    "y_train"
   ]
  },
  {
   "cell_type": "code",
   "execution_count": 8,
   "metadata": {},
   "outputs": [
    {
     "data": {
      "text/plain": [
       "array([[2.59340641e+01, 1.49762730e+02, 1.40000000e-02, ...,\n",
       "        6.95000000e+02, 5.51000000e+01, 4.22000000e+01],\n",
       "       [9.27859786e-01, 1.33905978e+02, 7.95000000e-01, ...,\n",
       "        1.36100000e+03, 8.13300000e+02, 9.98000000e+01],\n",
       "       [1.30607936e+01, 1.37631480e+02, 7.18000000e-01, ...,\n",
       "        7.34000000e+02, 6.86600000e+01, 1.94000000e+01],\n",
       "       ...,\n",
       "       [2.44199803e+00, 1.34570950e+02, 8.56000000e-01, ...,\n",
       "        1.28200000e+03, 6.38050000e+02, 2.72000000e+01],\n",
       "       [1.87464901e+01, 1.47130740e+02, 5.08000000e-01, ...,\n",
       "        6.86000000e+02, 5.23800000e+01, 2.67000000e+01],\n",
       "       [2.81650490e+00, 1.70967685e+02, 1.05000000e-01, ...,\n",
       "        1.21900000e+03, 5.21130000e+02, 1.40680000e+03]])"
      ]
     },
     "execution_count": 8,
     "metadata": {},
     "output_type": "execute_result"
    }
   ],
   "source": [
    "X_train"
   ]
  },
  {
   "cell_type": "markdown",
   "metadata": {},
   "source": [
    "# linear kernel"
   ]
  },
  {
   "cell_type": "code",
   "execution_count": 9,
   "metadata": {},
   "outputs": [
    {
     "data": {
      "text/plain": [
       "SVC(kernel='linear')"
      ]
     },
     "execution_count": 9,
     "metadata": {},
     "output_type": "execute_result"
    }
   ],
   "source": [
    "model = SVC(kernel='linear')\n",
    "model.fit(X_train, y_train)"
   ]
  },
  {
   "cell_type": "code",
   "execution_count": 10,
   "metadata": {},
   "outputs": [
    {
     "name": "stdout",
     "output_type": "stream",
     "text": [
      "Test Accuracy: 0.744\n"
     ]
    }
   ],
   "source": [
    "# Model Accuracy\n",
    "print(f\"Test Accuracy: {model.score(X_test, y_test)}\")"
   ]
  },
  {
   "cell_type": "code",
   "execution_count": 11,
   "metadata": {},
   "outputs": [
    {
     "name": "stdout",
     "output_type": "stream",
     "text": [
      "                precision    recall  f1-score   support\n",
      "\n",
      "     CANDIDATE       0.50      0.06      0.11        17\n",
      "     CONFIRMED       0.73      0.90      0.81        63\n",
      "FALSE POSITIVE       0.78      0.78      0.78        45\n",
      "\n",
      "      accuracy                           0.74       125\n",
      "     macro avg       0.67      0.58      0.56       125\n",
      "  weighted avg       0.72      0.74      0.70       125\n",
      "\n"
     ]
    }
   ],
   "source": [
    "# Calculate classification report\n",
    "predictions = model.predict(X_test)\n",
    "print(classification_report(y_test, predictions, target_names=y_labels))"
   ]
  },
  {
   "cell_type": "markdown",
   "metadata": {},
   "source": [
    "# polynomial kernel"
   ]
  },
  {
   "cell_type": "code",
   "execution_count": 12,
   "metadata": {},
   "outputs": [
    {
     "data": {
      "text/plain": [
       "SVC(kernel='poly')"
      ]
     },
     "execution_count": 12,
     "metadata": {},
     "output_type": "execute_result"
    }
   ],
   "source": [
    "model = SVC(kernel = 'poly')\n",
    "model.fit(X_train, y_train)"
   ]
  },
  {
   "cell_type": "code",
   "execution_count": 13,
   "metadata": {},
   "outputs": [
    {
     "name": "stdout",
     "output_type": "stream",
     "text": [
      "Test Accuracy: 0.504\n"
     ]
    }
   ],
   "source": [
    "# Model Accuracy\n",
    "print(f\"Test Accuracy: {model.score(X_test, y_test)}\")"
   ]
  },
  {
   "cell_type": "code",
   "execution_count": 14,
   "metadata": {},
   "outputs": [
    {
     "name": "stdout",
     "output_type": "stream",
     "text": [
      "                precision    recall  f1-score   support\n",
      "\n",
      "     CANDIDATE       0.00      0.00      0.00        17\n",
      "     CONFIRMED       0.51      0.95      0.66        63\n",
      "FALSE POSITIVE       0.43      0.07      0.12        45\n",
      "\n",
      "      accuracy                           0.50       125\n",
      "     macro avg       0.31      0.34      0.26       125\n",
      "  weighted avg       0.41      0.50      0.38       125\n",
      "\n"
     ]
    },
    {
     "name": "stderr",
     "output_type": "stream",
     "text": [
      "D:\\ProgramData\\Anaconda3\\envs\\PythonAdv\\lib\\site-packages\\sklearn\\metrics\\_classification.py:1221: UndefinedMetricWarning: Precision and F-score are ill-defined and being set to 0.0 in labels with no predicted samples. Use `zero_division` parameter to control this behavior.\n",
      "  _warn_prf(average, modifier, msg_start, len(result))\n"
     ]
    }
   ],
   "source": [
    "# Calculate classification report\n",
    "\n",
    "predictions = model.predict(X_test)\n",
    "print(classification_report(y_test, predictions, target_names=y_labels))"
   ]
  },
  {
   "cell_type": "markdown",
   "metadata": {},
   "source": [
    "# gaussian kernel"
   ]
  },
  {
   "cell_type": "code",
   "execution_count": 15,
   "metadata": {},
   "outputs": [
    {
     "data": {
      "text/plain": [
       "SVC()"
      ]
     },
     "execution_count": 15,
     "metadata": {},
     "output_type": "execute_result"
    }
   ],
   "source": [
    "# Support vector machine gaussian classifier\n",
    "\n",
    "model = SVC(kernel = 'rbf')\n",
    "model.fit(X_train, y_train)"
   ]
  },
  {
   "cell_type": "code",
   "execution_count": 16,
   "metadata": {},
   "outputs": [
    {
     "name": "stdout",
     "output_type": "stream",
     "text": [
      "Test Accuracy: 0.52\n"
     ]
    }
   ],
   "source": [
    "# Model Accuracy\n",
    "print(f\"Test Accuracy: {model.score(X_test, y_test)}\")"
   ]
  },
  {
   "cell_type": "code",
   "execution_count": 17,
   "metadata": {},
   "outputs": [
    {
     "name": "stdout",
     "output_type": "stream",
     "text": [
      "                precision    recall  f1-score   support\n",
      "\n",
      "     CANDIDATE       0.00      0.00      0.00        17\n",
      "     CONFIRMED       0.52      0.95      0.67        63\n",
      "FALSE POSITIVE       0.56      0.11      0.19        45\n",
      "\n",
      "      accuracy                           0.52       125\n",
      "     macro avg       0.36      0.35      0.29       125\n",
      "  weighted avg       0.46      0.52      0.40       125\n",
      "\n"
     ]
    },
    {
     "name": "stderr",
     "output_type": "stream",
     "text": [
      "D:\\ProgramData\\Anaconda3\\envs\\PythonAdv\\lib\\site-packages\\sklearn\\metrics\\_classification.py:1221: UndefinedMetricWarning: Precision and F-score are ill-defined and being set to 0.0 in labels with no predicted samples. Use `zero_division` parameter to control this behavior.\n",
      "  _warn_prf(average, modifier, msg_start, len(result))\n"
     ]
    }
   ],
   "source": [
    "# Calculate classification report\n",
    "predictions = model.predict(X_test)\n",
    "print(classification_report(y_test, predictions, target_names=y_labels))"
   ]
  },
  {
   "cell_type": "markdown",
   "metadata": {},
   "source": [
    "# Hyperparameter Tuning\n",
    "\n",
    "Use `GridSearchCV` to tune the model's parameters"
   ]
  },
  {
   "cell_type": "code",
   "execution_count": 18,
   "metadata": {},
   "outputs": [],
   "source": [
    "# Create the GridSearchCV model\n",
    "# linear kernel does not use gamma parameter, so only C\n",
    "# linear kernel takes much much longer than rbf and poly, so I take out linear\n",
    "# n_jobs=-1 means it willl use all cpu cores/threads, my pc reached 100% cpu load!\n",
    "\n",
    "parameters = {'C':[1, 5, 10], 'gamma':[0.0001, 0.0005, 0.001, 0.005]}\n",
    "grid = GridSearchCV(model, parameters, verbose=5, n_jobs=4)\n"
   ]
  },
  {
   "cell_type": "code",
   "execution_count": 19,
   "metadata": {},
   "outputs": [
    {
     "name": "stdout",
     "output_type": "stream",
     "text": [
      "Fitting 5 folds for each of 12 candidates, totalling 60 fits\n"
     ]
    },
    {
     "name": "stderr",
     "output_type": "stream",
     "text": [
      "[Parallel(n_jobs=4)]: Using backend LokyBackend with 4 concurrent workers.\n",
      "[Parallel(n_jobs=4)]: Done  10 tasks      | elapsed:    0.7s\n",
      "[Parallel(n_jobs=4)]: Done  60 out of  60 | elapsed:    0.9s finished\n"
     ]
    },
    {
     "data": {
      "text/plain": [
       "GridSearchCV(estimator=SVC(), n_jobs=4,\n",
       "             param_grid={'C': [1, 5, 10],\n",
       "                         'gamma': [0.0001, 0.0005, 0.001, 0.005]},\n",
       "             verbose=5)"
      ]
     },
     "execution_count": 19,
     "metadata": {},
     "output_type": "execute_result"
    }
   ],
   "source": [
    "# Train the model with GridSearch\n",
    "# this fit step takes a long time!!!\n",
    "grid.fit(X_train, y_train)"
   ]
  },
  {
   "cell_type": "code",
   "execution_count": 20,
   "metadata": {},
   "outputs": [
    {
     "data": {
      "text/plain": [
       "['mean_fit_time',\n",
       " 'mean_score_time',\n",
       " 'mean_test_score',\n",
       " 'param_C',\n",
       " 'param_gamma',\n",
       " 'params',\n",
       " 'rank_test_score',\n",
       " 'split0_test_score',\n",
       " 'split1_test_score',\n",
       " 'split2_test_score',\n",
       " 'split3_test_score',\n",
       " 'split4_test_score',\n",
       " 'std_fit_time',\n",
       " 'std_score_time',\n",
       " 'std_test_score']"
      ]
     },
     "execution_count": 20,
     "metadata": {},
     "output_type": "execute_result"
    }
   ],
   "source": [
    "sorted(grid.cv_results_.keys())"
   ]
  },
  {
   "cell_type": "code",
   "execution_count": 21,
   "metadata": {},
   "outputs": [
    {
     "name": "stdout",
     "output_type": "stream",
     "text": [
      "{'C': 1, 'gamma': 0.0005}\n",
      "0.608\n"
     ]
    }
   ],
   "source": [
    "print(grid.best_params_)\n",
    "print(grid.best_score_)"
   ]
  },
  {
   "cell_type": "code",
   "execution_count": 22,
   "metadata": {},
   "outputs": [],
   "source": [
    "# Make predictions with the hypertuned model\n",
    "predictions = grid.predict(X_test)"
   ]
  },
  {
   "cell_type": "code",
   "execution_count": 23,
   "metadata": {},
   "outputs": [
    {
     "name": "stdout",
     "output_type": "stream",
     "text": [
      "                precision    recall  f1-score   support\n",
      "\n",
      "     CANDIDATE       0.00      0.00      0.00        17\n",
      "     CONFIRMED       0.50      1.00      0.67        63\n",
      "FALSE POSITIVE       0.00      0.00      0.00        45\n",
      "\n",
      "      accuracy                           0.50       125\n",
      "     macro avg       0.17      0.33      0.22       125\n",
      "  weighted avg       0.25      0.50      0.34       125\n",
      "\n"
     ]
    },
    {
     "name": "stderr",
     "output_type": "stream",
     "text": [
      "D:\\ProgramData\\Anaconda3\\envs\\PythonAdv\\lib\\site-packages\\sklearn\\metrics\\_classification.py:1221: UndefinedMetricWarning: Precision and F-score are ill-defined and being set to 0.0 in labels with no predicted samples. Use `zero_division` parameter to control this behavior.\n",
      "  _warn_prf(average, modifier, msg_start, len(result))\n"
     ]
    }
   ],
   "source": [
    "# Calculate classification report\n",
    " \n",
    "print(classification_report(y_test, predictions,\n",
    "                            target_names=y_labels))"
   ]
  },
  {
   "cell_type": "markdown",
   "metadata": {},
   "source": [
    "# Save the Model"
   ]
  },
  {
   "cell_type": "code",
   "execution_count": 24,
   "metadata": {},
   "outputs": [
    {
     "data": {
      "text/plain": [
       "['jamesye_svm.sav']"
      ]
     },
     "execution_count": 24,
     "metadata": {},
     "output_type": "execute_result"
    }
   ],
   "source": [
    "# save your model by updating \"your_name\" with your name\n",
    "# and \"your_model\" with your model variable\n",
    "# be sure to turn this in to BCS\n",
    "# if joblib fails to import, try running the command to install in terminal/git-bash\n",
    "import joblib\n",
    "filename = 'jamesye_svm.sav'\n",
    "joblib.dump(grid, filename)"
   ]
  },
  {
   "cell_type": "markdown",
   "metadata": {},
   "source": [
    "# Load the Model"
   ]
  },
  {
   "cell_type": "code",
   "execution_count": 25,
   "metadata": {},
   "outputs": [
    {
     "data": {
      "text/plain": [
       "0.504"
      ]
     },
     "execution_count": 25,
     "metadata": {},
     "output_type": "execute_result"
    }
   ],
   "source": [
    "loaded_model = joblib.load(filename)\n",
    "result = loaded_model.score(X_test, y_test)\n",
    "result"
   ]
  },
  {
   "cell_type": "code",
   "execution_count": null,
   "metadata": {},
   "outputs": [],
   "source": []
  }
 ],
 "metadata": {
  "kernel_info": {
   "name": "dev"
  },
  "kernelspec": {
   "display_name": "PythonAdv",
   "language": "python",
   "name": "pythonadv"
  },
  "language_info": {
   "codemirror_mode": {
    "name": "ipython",
    "version": 3
   },
   "file_extension": ".py",
   "mimetype": "text/x-python",
   "name": "python",
   "nbconvert_exporter": "python",
   "pygments_lexer": "ipython3",
   "version": "3.6.10"
  },
  "nteract": {
   "version": "0.12.3"
  }
 },
 "nbformat": 4,
 "nbformat_minor": 2
}
